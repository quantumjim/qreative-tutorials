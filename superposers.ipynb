{
 "cells": [
  {
   "cell_type": "markdown",
   "metadata": {},
   "source": [
    "# How to use the superposers"
   ]
  },
  {
   "cell_type": "code",
   "execution_count": 1,
   "metadata": {},
   "outputs": [
    {
     "name": "stderr",
     "output_type": "stream",
     "text": [
      "/usr/local/lib/python3.7/site-packages/pydub/utils.py:165: RuntimeWarning: Couldn't find ffmpeg or avconv - defaulting to ffmpeg, but may not work\n",
      "  warn(\"Couldn't find ffmpeg or avconv - defaulting to ffmpeg, but may not work\", RuntimeWarning)\n"
     ]
    }
   ],
   "source": [
    "import sys\n",
    "sys.path.append('../')\n",
    "import qreative"
   ]
  },
  {
   "cell_type": "markdown",
   "metadata": {
    "collapsed": true
   },
   "source": [
    "### `bitstring_superposer`\n",
    "\n",
    "Information can be represented as bit strings. These can then be encoded into qubits: simply use one qubit for each bit in the string and set its value to `0` or `1` as required.\n",
    "\n",
    "With qubits, we can also create superpositions of bit strings, which is exactly what is done by this function. It takes list of two bit strings as an argument, and then encodes and superposes them.\n",
    "\n",
    "When the superposition of bit strings is measured, the result will be randomly chosen from the strings being superposed."
   ]
  },
  {
   "cell_type": "code",
   "execution_count": 2,
   "metadata": {},
   "outputs": [],
   "source": [
    "stats = qreative.bitstring_superposer(['0000','0101'],shots=1)"
   ]
  },
  {
   "cell_type": "code",
   "execution_count": 3,
   "metadata": {},
   "outputs": [
    {
     "name": "stdout",
     "output_type": "stream",
     "text": [
      "    Random string from superposition:  0101\n"
     ]
    }
   ],
   "source": [
    "print(\"    Random string from superposition: \",list(stats.keys())[0])"
   ]
  },
  {
   "cell_type": "markdown",
   "metadata": {},
   "source": [
    "To see what the probabilities are for each outcome, we can repeat the process many times and caculate the fraction of runs for which each result occurs. For this we can set a high value for the shots kwarg, or just use its default value of shots=1024."
   ]
  },
  {
   "cell_type": "code",
   "execution_count": 4,
   "metadata": {},
   "outputs": [
    {
     "name": "stdout",
     "output_type": "stream",
     "text": [
      "    Strings and their fractions:        {'0000': 0.5126953125, '1111': 0.4873046875}\n"
     ]
    }
   ],
   "source": [
    "stats = qreative.bitstring_superposer(['0000','1111'])\n",
    "print(\"    Strings and their fractions:       \",stats)"
   ]
  },
  {
   "cell_type": "markdown",
   "metadata": {},
   "source": [
    "If you don't want a 50/50 split, you can use the `bias` qwarg. This should be set to a value between $0$ and $1$, and will give the corresponding bias to the first listed bit string. For example, we can change the command used above to give an 80% bias towards `'0000'`."
   ]
  },
  {
   "cell_type": "code",
   "execution_count": 5,
   "metadata": {},
   "outputs": [
    {
     "name": "stdout",
     "output_type": "stream",
     "text": [
      "    Strings and their fractions:        {'0000': 0.81640625, '1111': 0.18359375}\n"
     ]
    }
   ],
   "source": [
    "stats = qreative.bitstring_superposer(['0000','1111'],bias=0.8)\n",
    "print(\"    Strings and their fractions:       \",stats)"
   ]
  },
  {
   "cell_type": "markdown",
   "metadata": {},
   "source": [
    "Another possibility is to create a superposition of an entire set of bit strings, rather than just two. For example, we could include all four two-bit strings in our list."
   ]
  },
  {
   "cell_type": "code",
   "execution_count": 6,
   "metadata": {},
   "outputs": [
    {
     "name": "stdout",
     "output_type": "stream",
     "text": [
      "    Strings and their fractions:    {'01': 0.2451171875, '10': 0.2724609375, '00': 0.2509765625, '11': 0.2314453125}\n"
     ]
    }
   ],
   "source": [
    "stats = qreative.bitstring_superposer(['00','01','10','11'],bias=0.8)\n",
    "print(\"    Strings and their fractions:   \",stats)"
   ]
  },
  {
   "cell_type": "markdown",
   "metadata": {},
   "source": [
    "Note that this only works when all possible strings of a certain length are used. Otherwise, only the first two bit strings in the list will be superposed."
   ]
  },
  {
   "cell_type": "markdown",
   "metadata": {},
   "source": [
    "In these example, we just got out dictionary of measurement results. Since that isn't the most exciting thing in the world, the next few functions use `bitstring_superposer` to make things that are more appealing."
   ]
  },
  {
   "cell_type": "markdown",
   "metadata": {},
   "source": [
    "### `emoticon_superposer`\n",
    "\n",
    "Thanks to the ASCII standard, we have a well defined way of assigning bit strings to letters, numbers and punctuation. For example, you can express `;)` as `01110110101001`, if you were so inclined.\n",
    "\n",
    "Given two strings of letters, numbers and punctuation, the `emoticon_superposer` creates and analysis the superposition, and visualizes the results. Note that only strings of length 2 are supported (so you can do `:D` but not `:-D`).\n",
    "\n",
    "For example, let's superpose `;)` and `8)`."
   ]
  },
  {
   "cell_type": "code",
   "execution_count": 7,
   "metadata": {},
   "outputs": [
    {
     "data": {
      "image/png": "[encoded data removed]",
      "text/plain": [
       "<Figure size 432x288 with 1 Axes>"
      ]
     },
     "metadata": {
      "needs_background": "light"
     },
     "output_type": "display_data"
    }
   ],
   "source": [
    "stats = qreative.emoticon_superposer([';)','8)'])"
   ]
  },
  {
   "cell_type": "markdown",
   "metadata": {},
   "source": [
    "The fractions of runs for which each emoticon occured is also output, in case you want it for some reason."
   ]
  },
  {
   "cell_type": "code",
   "execution_count": 8,
   "metadata": {},
   "outputs": [
    {
     "name": "stdout",
     "output_type": "stream",
     "text": [
      "    Emoticons and their fractions:        {';)': 0.4912109375, '8)': 0.5087890625}\n"
     ]
    }
   ],
   "source": [
    "print(\"    Emoticons and their fractions:       \",stats)"
   ]
  },
  {
   "cell_type": "markdown",
   "metadata": {},
   "source": [
    "The image is composed of all the emoticons found in the results, with the alpha channel of each set such that the emoticons for the most probable strings appear the strongest."
   ]
  },
  {
   "cell_type": "markdown",
   "metadata": {},
   "source": [
    "The kwargs include the standard `device='qasm_simulator'` and `shots=1024`. There is also `encoding=7`, which determines the length of the bit strings used for the ASCII encoding. For two characters, $2\\times$`encoding` qubits are required. The default value of 7 is therefore the maximum that can be done on publicly available hardware, given that the largest device is the 14 qubit `'ibmq_16_melbourne'`. \n",
    "\n",
    "To run on this device, use\n",
    "\n",
    "`    stats = qreative.emoticon_superposer([';)','8)'],device='ibmq_16_melbourne')`\n",
    "\n",
    "The noisy nature of real devices means that spurious results will appear on some runs, resulting in spurious emoticons appearing in the final image. To simulate this without needing to queue for the real device, use the `noisy` kwarg."
   ]
  },
  {
   "cell_type": "code",
   "execution_count": 3,
   "metadata": {},
   "outputs": [
    {
     "name": "stderr",
     "output_type": "stream",
     "text": [
      "/usr/local/lib/python3.7/site-packages/pydub/utils.py:165: RuntimeWarning: Couldn't find ffmpeg or avconv - defaulting to ffmpeg, but may not work\n",
      "  warn(\"Couldn't find ffmpeg or avconv - defaulting to ffmpeg, but may not work\", RuntimeWarning)\n"
     ]
    }
   ],
   "source": [
    "import sys\n",
    "sys.path.append('../')\n",
    "import qreative\n"
   ]
  },
  {
   "cell_type": "code",
   "execution_count": 2,
   "metadata": {},
   "outputs": [
    {
     "data": {
      "image/png": "[encoded data removed]",
      "text/plain": [
       "<Figure size 432x288 with 1 Axes>"
      ]
     },
     "metadata": {
      "needs_background": "light"
     },
     "output_type": "display_data"
    }
   ],
   "source": [
    "stats = qreative.emoticon_superposer([';)','8)'],noisy=True)"
   ]
  },
  {
   "cell_type": "code",
   "execution_count": 5,
   "metadata": {},
   "outputs": [
    {
     "name": "stdout",
     "output_type": "stream",
     "text": [
      "{'?)': 0.015625, '3i': 0.001953125, '9!': 0.00390625, '3(': 0.0009765625, '=)': 0.001953125, '{(': 0.0009765625, 'y)': 0.0029296875, '39': 0.0009765625, ';m': 0.0009765625, '8,': 0.0009765625, 'xy': 0.0009765625, '\\x13(': 0.0009765625, 'x\\t': 0.001953125, '(,': 0.0009765625, '2\\t': 0.0009765625, 'x-': 0.0009765625, '2+': 0.0009765625, '<\\t': 0.0009765625, '+-': 0.001953125, 'z)': 0.0009765625, '\\x18\\x19': 0.0009765625, ':\\t': 0.001953125, ';\\x1b': 0.0009765625, '\\x1b)': 0.0087890625, 's)': 0.0009765625, '+!': 0.0009765625, ':i': 0.001953125, '})': 0.0009765625, ':+': 0.0029296875, '\\x189': 0.0009765625, ';O': 0.0009765625, '8y': 0.0048828125, '8a': 0.0009765625, '<+': 0.001953125, 's.': 0.0009765625, '(i': 0.0029296875, 'r)': 0.0009765625, '?9': 0.0009765625, '+ ': 0.0009765625, 'xa': 0.0009765625, '{+': 0.0009765625, '8\\x01': 0.0009765625, '3+': 0.001953125, ';\\x08': 0.001953125, '+\\x19': 0.0009765625, 'x!': 0.0009765625, '8!': 0.0166015625, '9%': 0.0009765625, 'p)': 0.0009765625, '{\\t': 0.0009765625, '1)': 0.00390625, '7i': 0.0009765625, ';!': 0.013671875, '?-': 0.0009765625, 'q)': 0.0009765625, ';I': 0.001953125, 'xi': 0.001953125, 'h)': 0.001953125, '\\x1a)': 0.0029296875, '\\x1aa': 0.0009765625, '\\x18)': 0.0126953125, ':)': 0.0322265625, '01': 0.0009765625, '()': 0.0126953125, '8\\t': 0.0126953125, '\\x1c)': 0.0009765625, '\\x1c-': 0.0009765625, '8{': 0.001953125, ';%': 0.001953125, '8 ': 0.0009765625, '+)': 0.009765625, 'o)': 0.0009765625, '\\x18(': 0.0009765625, '?(': 0.0009765625, ':-': 0.0029296875, '\\x1ai': 0.0009765625, '?+': 0.001953125, '>)': 0.00390625, ':9': 0.00390625, '{/': 0.0009765625, '\\x1f)': 0.0009765625, '8=': 0.0009765625, '#)': 0.0009765625, ' )': 0.001953125, '09': 0.0029296875, '8+': 0.0166015625, '3\\t': 0.0009765625, ':\\x0b': 0.0009765625, '8(': 0.01953125, '2)': 0.0009765625, 'o;': 0.0009765625, 'k)': 0.0009765625, ';#': 0.0009765625, ';+': 0.0146484375, ';a': 0.0009765625, '9i': 0.0068359375, '0+': 0.0009765625, '88': 0.0009765625, '0)': 0.0166015625, ';=': 0.001953125, '{i': 0.001953125, '\\x08-': 0.0009765625, '+(': 0.0009765625, '; ': 0.0029296875, ';\\x01': 0.0009765625, '89': 0.0166015625, '{)': 0.01171875, '8;': 0.0009765625, '*-': 0.0009765625, ';-': 0.0166015625, '(m': 0.0009765625, ')i': 0.0009765625, ';\\t': 0.009765625, '\\x19)': 0.001953125, '+9': 0.0009765625, '{9': 0.0009765625, ':(': 0.001953125, ';/': 0.001953125, '9\\t': 0.0029296875, ';k': 0.0009765625, '8h': 0.0029296875, '\\x10)': 0.0009765625, '8k': 0.001953125, ';,': 0.0009765625, '3)': 0.015625, '8)': 0.1767578125, '<!': 0.001953125, ';9': 0.0078125, '9-': 0.00390625, '-(': 0.0009765625, '++': 0.001953125, ':!': 0.001953125, '|)': 0.0009765625, ';i': 0.0068359375, '(9': 0.0009765625, '<k': 0.0009765625, '\\x7f)': 0.0009765625, '/)': 0.0009765625, '9#': 0.0009765625, '4)': 0.0029296875, '3\\x08': 0.0009765625, '3!': 0.001953125, '8\\r': 0.00390625, '0-': 0.001953125, '\\x1b9': 0.0009765625, '8*': 0.0009765625, '(\\t': 0.0009765625, '<9': 0.0009765625, '\\x1b\\t': 0.001953125, ':k': 0.0009765625, '8\\x11': 0.0009765625, '+w': 0.0009765625, '99': 0.00390625, ';*': 0.0009765625, ';\\x0c': 0.0009765625, '\\x19\\t': 0.0009765625, '{I': 0.0009765625, '8-': 0.015625, '((': 0.0009765625, 'Xi': 0.0009765625, '?m': 0.0009765625, 'x)': 0.01171875, ';\\r': 0.0009765625, '*)': 0.0009765625, '))': 0.00390625, '\\x18-': 0.0029296875, '9)': 0.0361328125, '8i': 0.0126953125, 'iI': 0.0009765625, '?i': 0.0029296875, ';\\x19': 0.0009765625, '8/': 0.0029296875, '\\x19i': 0.0009765625, '\\x10+': 0.001953125, '+\\t': 0.0009765625, '\\x1bi': 0.0009765625, 'x\\r': 0.0009765625, '8#': 0.001953125, '9+': 0.0078125, '\\x7f!': 0.0009765625, ';)': 0.1728515625, ':I': 0.0009765625, '<)': 0.01171875, '3-': 0.0009765625, ',+': 0.0009765625, 'x(': 0.001953125, ';(': 0.013671875, '8$': 0.0009765625, '\\x1b!': 0.0009765625, '=\\t': 0.0009765625, '(-': 0.00390625, '8I': 0.001953125, '81': 0.001953125}\n"
     ]
    }
   ],
   "source": [
    "print(stats)"
   ]
  },
  {
   "cell_type": "code",
   "execution_count": null,
   "metadata": {},
   "outputs": [],
   "source": [
    "from qiskit.providers.aer.noise.errors import phase_amplitude_damping_error"
   ]
  },
  {
   "cell_type": "code",
   "execution_count": null,
   "metadata": {},
   "outputs": [],
   "source": [
    "phase_amplitude_damping_error()"
   ]
  },
  {
   "cell_type": "code",
   "execution_count": null,
   "metadata": {},
   "outputs": [],
   "source": [
    "dir(noise.errors)"
   ]
  },
  {
   "cell_type": "markdown",
   "metadata": {},
   "source": [
    "It is also possible to submit multiple jobs at once. So instead of just using a list of strings (like `[';)','8)']`) as the input, you could use a list of such lists (like `[ [';)','8)'] , [':D','8|'] ]` )"
   ]
  },
  {
   "cell_type": "code",
   "execution_count": null,
   "metadata": {},
   "outputs": [],
   "source": [
    "stats = qreative.emoticon_superposer([ [';)','8)'] , [':D','8|'] ])"
   ]
  },
  {
   "cell_type": "markdown",
   "metadata": {},
   "source": [
    "The fractions for which emoticons occured are then returned as a corresponding list of dictionaries, instead of just a single dictionary as for a single job."
   ]
  },
  {
   "cell_type": "code",
   "execution_count": null,
   "metadata": {},
   "outputs": [],
   "source": [
    "print(stats)"
   ]
  },
  {
   "cell_type": "markdown",
   "metadata": {},
   "source": [
    "This functionality is especially useful when using a real device. This is because the jobs are submitted as a batch, and so you don't need to repeatedly wait in the queue to use the device. It is also available for `bitstring_superposer` and `image_superposer`."
   ]
  },
  {
   "cell_type": "markdown",
   "metadata": {},
   "source": [
    "This function was inspired by a superposition of emoticons made as a kind of quantum 'Hello World'. For more on this, see [here](https://medium.com/qiskit/making-a-quantum-computer-smile-cee86a6fc1de)."
   ]
  },
  {
   "cell_type": "markdown",
   "metadata": {},
   "source": [
    "### `image_superposer`\n",
    "\n",
    "The `image_superposer` function does much the same as the `emoticon_superposer`, but using more general images. There are two main arguments, each of which should contain a list of filenames for png files in the local images folder. The first describes a set of images from which the superposed images will be chosen. With this we define a binary encoding for the set of images, assigning a unique binary string to each.\n",
    "\n",
    "The second specifies the images to be superposed. This should either contain exactly two filenames, or it contain all the filenames within the first list. This is because only two types of superposition are currently supported: those of two images, or those of all images within a set.\n",
    "\n",
    "When the `backend='local_qasm_simulator'` kwarg is changed to a real device, noise will result the appearence of other images than those involved in the superposition. These will be from the larger set specified from the first list. The `shots=1024` is also present, doing its usual thing."
   ]
  },
  {
   "cell_type": "code",
   "execution_count": null,
   "metadata": {},
   "outputs": [],
   "source": [
    "qreative.image_superposer(['butterfly','moth','heron'],[['moth','heron'],['moth','butterfly']])"
   ]
  },
  {
   "cell_type": "markdown",
   "metadata": {},
   "source": [
    "This function was inspired by part of the command line version of the [Hello Quantum](http://helloquantum.mybluemix.net/) project. You can read more about that image superposer [here](https://medium.com/qiskit/a-quantum-superposition-of-a-tiger-and-a-bear-b461e3b23908)."
   ]
  },
  {
   "cell_type": "markdown",
   "metadata": {},
   "source": [
    "### `audio_superposer`\n",
    "\n",
    "Much the same as the superposer for images, there's also one for audio. Again, supply lists of filenames. The final output audio will be placed in the local *outputs* folder.\n",
    "\n",
    "By default, the input and output files should be in *.wav* format. You can also use anything else [supported by ffmpeg](http://www.ffmpeg.org/general.html#File-Formats) by setting the format `kwarg`. For example, `kwarg='mp3'` for mp3."
   ]
  },
  {
   "cell_type": "code",
   "execution_count": 1,
   "metadata": {},
   "outputs": [
    {
     "name": "stderr",
     "output_type": "stream",
     "text": [
      "/usr/local/lib/python3.7/site-packages/pydub/utils.py:165: RuntimeWarning: Couldn't find ffmpeg or avconv - defaulting to ffmpeg, but may not work\n",
      "  warn(\"Couldn't find ffmpeg or avconv - defaulting to ffmpeg, but may not work\", RuntimeWarning)\n"
     ]
    },
    {
     "data": {
      "text/plain": [
       "[{'8bit_Dungeon_Level': 0.443359375,\n",
       "  'Bit_Quest': 0.48046875,\n",
       "  '8bit_Dungeon_Boss': 0.041015625,\n",
       "  'Bit_Shift': 0.03515625}]"
      ]
     },
     "execution_count": 1,
     "metadata": {},
     "output_type": "execute_result"
    }
   ],
   "source": [
    "import sys\n",
    "sys.path.append('../')\n",
    "import qreative\n",
    "qreative.audio_superposer(['8bit_Dungeon_Level','Bit_Quest','8bit_Dungeon_Boss','Bit_Shift'],['8bit_Dungeon_Level','Bit_Quest'],noisy=True)"
   ]
  },
  {
   "cell_type": "markdown",
   "metadata": {},
   "source": [
    "This is based on the [Laurel or Yanny](https://github.com/Qiskit/qiskit-tutorials/blob/master/community/hello_world/laurel_or_yanny.ipynb) notebook from the Qiskit tutorials."
   ]
  },
  {
   "cell_type": "code",
   "execution_count": null,
   "metadata": {},
   "outputs": [],
   "source": []
  }
 ],
 "metadata": {
  "kernelspec": {
   "display_name": "Python 3",
   "language": "python",
   "name": "python3"
  },
  "language_info": {
   "codemirror_mode": {
    "name": "ipython",
    "version": 3
   },
   "file_extension": ".py",
   "mimetype": "text/x-python",
   "name": "python",
   "nbconvert_exporter": "python",
   "pygments_lexer": "ipython3",
   "version": "3.7.0"
  }
 },
 "nbformat": 4,
 "nbformat_minor": 2
}
