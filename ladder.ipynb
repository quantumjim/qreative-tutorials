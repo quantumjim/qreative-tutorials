{
 "cells": [
  {
   "cell_type": "markdown",
   "metadata": {},
   "source": [
    "# How to use `ladder`"
   ]
  },
  {
   "cell_type": "code",
   "execution_count": 1,
   "metadata": {},
   "outputs": [
    {
     "name": "stderr",
     "output_type": "stream",
     "text": [
      "/usr/local/lib/python3.7/site-packages/pydub/utils.py:165: RuntimeWarning: Couldn't find ffmpeg or avconv - defaulting to ffmpeg, but may not work\n",
      "  warn(\"Couldn't find ffmpeg or avconv - defaulting to ffmpeg, but may not work\", RuntimeWarning)\n"
     ]
    }
   ],
   "source": [
    "import sys\n",
    "sys.path.append('../')\n",
    "import qreative"
   ]
  },
  {
   "cell_type": "markdown",
   "metadata": {},
   "source": [
    "A single qubit cannot store more than one bit of information. But if we are happy to run our program many times and do some statistics, one repeatedly used qubit can store more information. The ladder class does just this, by encoding an `int` like object into a qubit.\n",
    "\n",
    "These quantum integers run from a minimum value of `0` to a maximum of `d`, which is the input we must supply when initializing a `ladder` object. Let's go for `d=3` in our first example."
   ]
  },
  {
   "cell_type": "code",
   "execution_count": 5,
   "metadata": {},
   "outputs": [],
   "source": [
    "A = qreative.ladder(3)"
   ]
  },
  {
   "cell_type": "markdown",
   "metadata": {},
   "source": [
    "The initial value for a `ladder` object is always `0`."
   ]
  },
  {
   "cell_type": "code",
   "execution_count": 6,
   "metadata": {},
   "outputs": [
    {
     "name": "stdout",
     "output_type": "stream",
     "text": [
      "    Initial value = 0\n"
     ]
    }
   ],
   "source": [
    "a = A.value()\n",
    "print('    Initial value =',a)"
   ]
  },
  {
   "cell_type": "markdown",
   "metadata": {},
   "source": [
    "We can add to this to get other numbers."
   ]
  },
  {
   "cell_type": "code",
   "execution_count": 7,
   "metadata": {},
   "outputs": [
    {
     "name": "stdout",
     "output_type": "stream",
     "text": [
      "    Add 1  --->  value = 1\n"
     ]
    }
   ],
   "source": [
    "A.add(1)\n",
    "print('    Add 1  --->  value =',A.value())"
   ]
  },
  {
   "cell_type": "code",
   "execution_count": 8,
   "metadata": {},
   "outputs": [
    {
     "name": "stdout",
     "output_type": "stream",
     "text": [
      "    Add 2  --->  value = 3\n"
     ]
    }
   ],
   "source": [
    "A.add(2)\n",
    "print('    Add 2  --->  value =',A.value())"
   ]
  },
  {
   "cell_type": "markdown",
   "metadata": {},
   "source": [
    "Once the maximum value has been reached, the `add()` method will instead start substracting. This is the inspiration behind the 'ladder' name: once you've reached the top, there's nowhere to climb but back down again."
   ]
  },
  {
   "cell_type": "code",
   "execution_count": 9,
   "metadata": {},
   "outputs": [
    {
     "name": "stdout",
     "output_type": "stream",
     "text": [
      "    Add 1  --->  value = 2\n",
      "    Add 1  --->  value = 1\n",
      "    Add 1  --->  value = 0\n",
      "    Add 1  --->  value = 1\n",
      "    Add 1  --->  value = 2\n",
      "    Add 1  --->  value = 3\n",
      "    Add 1  --->  value = 2\n",
      "    Add 1  --->  value = 1\n",
      "    Add 1  --->  value = 0\n"
     ]
    }
   ],
   "source": [
    "for example in range(9):\n",
    "    A.add(1)\n",
    "    print('    Add 1  --->  value =',A.value())"
   ]
  },
  {
   "cell_type": "markdown",
   "metadata": {},
   "source": [
    "Since we are doing statistics in order to squeeze an `int` like object into a qubit, the behaviour can sometimes be erratic. This becomes ever more true for larger values of `d`.\n",
    "\n",
    "The erratic behaviour is also dependent on the kwargs for the `value()` method. These are `shots=1024`, which sets the number times the process is repeated to calculate probabilities; and `backend='local_qasm_simulator'`, which can be changed to run on a real device such as `'ibmqx4'`. The more statistical noise you have from a low value of `shots` (which should be around 1000 times greater than `d`), and the more quantum noise you have from a real device, the more strange behaviour you will see.\n",
    "\n",
    "In the example below, shots is only 5 times `d`."
   ]
  },
  {
   "cell_type": "code",
   "execution_count": 7,
   "metadata": {},
   "outputs": [
    {
     "name": "stdout",
     "output_type": "stream",
     "text": [
      "    Add 1  --->  value = 0\n",
      "    Add 1  --->  value = 1\n",
      "    Add 1  --->  value = 2\n",
      "    Add 1  --->  value = 3\n",
      "    Add 1  --->  value = 5\n",
      "    Add 1  --->  value = 4\n",
      "    Add 1  --->  value = 6\n",
      "    Add 1  --->  value = 7\n",
      "    Add 1  --->  value = 9\n",
      "    Add 1  --->  value = 9\n",
      "    Add 1  --->  value = 10\n",
      "    Add 1  --->  value = 10\n",
      "    Add 1  --->  value = 9\n",
      "    Add 1  --->  value = 7\n",
      "    Add 1  --->  value = 7\n",
      "    Add 1  --->  value = 5\n",
      "    Add 1  --->  value = 4\n",
      "    Add 1  --->  value = 3\n",
      "    Add 1  --->  value = 2\n",
      "    Add 1  --->  value = 1\n"
     ]
    }
   ],
   "source": [
    "A = qreative.ladder(10)\n",
    "shots = 50\n",
    "for example in range(20):\n",
    "    print('    Add 1  --->  value =',A.value(shots=shots))\n",
    "    A.add(1)\n",
    "    "
   ]
  },
  {
   "cell_type": "markdown",
   "metadata": {},
   "source": [
    "The `ladder` object was inspired by the way attacks are implemented in the game [Battleships with partial NOT gates](https://medium.com/qiskit/how-to-program-a-quantum-computer-982a9329ed02). In this, each player has three ships that take up a single position. One of them needs only one hit to be destroyed, one needs two hits and the other needs three. These can be implemented with `ladder` objects with `d=1`, `d=2` and `d=3`, respectively."
   ]
  },
  {
   "cell_type": "code",
   "execution_count": 3,
   "metadata": {},
   "outputs": [],
   "source": [
    "ship = [None]*3\n",
    "ship[0] = qreative.ladder(1)\n",
    "ship[1] = qreative.ladder(2)\n",
    "ship[2] = qreative.ladder(3)"
   ]
  },
  {
   "cell_type": "markdown",
   "metadata": {},
   "source": [
    "Attacking a ship is then done by with `add(1)`, and a ship is declared destroyed once its value of `d` has been reached.\n",
    "\n",
    "*Note: The following cell is interactive so you'll need to run it yourself*"
   ]
  },
  {
   "cell_type": "code",
   "execution_count": 4,
   "metadata": {},
   "outputs": [
    {
     "name": "stdout",
     "output_type": "stream",
     "text": [
      "\n",
      "    > Choose a ship to attack (0,1 or 2)...\n",
      "    0\n",
      "\n",
      "    *Ship 0 has been destroyed!*\n",
      "\n",
      "    > Choose a ship to attack (0,1 or 2)...\n",
      "    1\n",
      "\n",
      "    *Ship 0 has been destroyed!*\n",
      "\n",
      "    > Choose a ship to attack (0,1 or 2)...\n",
      "    1\n",
      "\n",
      "    *Ship 0 has been destroyed!*\n",
      "\n",
      "    *Ship 1 has been destroyed!*\n",
      "\n",
      "    > Choose a ship to attack (0,1 or 2)...\n",
      "    2\n",
      "\n",
      "    *Ship 0 has been destroyed!*\n",
      "\n",
      "    *Ship 1 has been destroyed!*\n",
      "\n",
      "    > Choose a ship to attack (0,1 or 2)...\n",
      "    2\n",
      "\n",
      "    *Ship 0 has been destroyed!*\n",
      "\n",
      "    *Ship 1 has been destroyed!*\n",
      "\n",
      "    > Choose a ship to attack (0,1 or 2)...\n",
      "    2\n",
      "\n",
      "    *Ship 0 has been destroyed!*\n",
      "\n",
      "    *Ship 1 has been destroyed!*\n",
      "\n",
      "    *Ship 2 has been destroyed!*\n",
      "\n",
      "    **Mission complete!**\n"
     ]
    }
   ],
   "source": [
    "destroyed = 0\n",
    "while destroyed<3:\n",
    "    attack = int(input('\\n    > Choose a ship to attack (0,1 or 2)...\\n    '))\n",
    "    ship[attack].add(1)\n",
    "    destroyed = 0\n",
    "    for j in range(3):\n",
    "        if ship[j].value()==ship[j].d:\n",
    "            print('\\n    *Ship',j,'has been destroyed!*')\n",
    "            destroyed += 1\n",
    "print('\\n    **Mission complete!**')"
   ]
  },
  {
   "cell_type": "markdown",
   "metadata": {},
   "source": [
    "Of course, the ships are also hidden in a real game of Battleships. The above is just to give a taste."
   ]
  }
 ],
 "metadata": {
  "kernelspec": {
   "display_name": "Python 3",
   "language": "python",
   "name": "python3"
  },
  "language_info": {
   "codemirror_mode": {
    "name": "ipython",
    "version": 3
   },
   "file_extension": ".py",
   "mimetype": "text/x-python",
   "name": "python",
   "nbconvert_exporter": "python",
   "pygments_lexer": "ipython3",
   "version": "3.7.0"
  }
 },
 "nbformat": 4,
 "nbformat_minor": 2
}
