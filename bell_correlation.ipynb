{
 "cells": [
  {
   "cell_type": "markdown",
   "metadata": {},
   "source": [
    "# How to use `bell_correlation`"
   ]
  },
  {
   "cell_type": "code",
   "execution_count": 1,
   "metadata": {},
   "outputs": [],
   "source": [
    "import warnings\n",
    "warnings.filterwarnings(\"ignore\")\n",
    "\n",
    "import sys\n",
    "sys.path.append('../')\n",
    "\n",
    "import qreative"
   ]
  },
  {
   "cell_type": "markdown",
   "metadata": {},
   "source": [
    "The `bell_correlation` function creates and measures entangled states in the way required to demontsrate a violation of [Bell's inequality](https://en.wikipedia.org/wiki/Bell%27s_theorem). But since this function was created as a tool for creative purposes, let's instead explain how it was used in the game [Quantum Battleships](https://medium.com/@decodoku/quantum-battleships-the-first-multiplayer-game-for-a-quantum-computer-e4d600ccb3f3).\n",
    "\n",
    "In this, each ship is made out of two qubits. To see whether or not the ship has sunk, we measure the qubits (which means extracting a bit value from each). By repeating this many times, we can see how likely these two outputs are to agree. If the are most likely to agree, we think of the ship as intact. If they are most likely to disagree, we think of it as destroyed.\n",
    "\n",
    "Measurements can be done in many ways, which will lead to different results. Initially, we use a measurement type called `Z` on both qubits.\n",
    "\n",
    "To see what the probability of agreement is, we use the The `bell_correlation` function. This takes a two character string as its argument, which specifies the measurement type for the two qubits. For a `Z` type measurement on both, this is `'ZZ'`. The output is a dictionary, with the probability we want referred to by the keyword `'P'`."
   ]
  },
  {
   "cell_type": "code",
   "execution_count": 2,
   "metadata": {},
   "outputs": [
    {
     "name": "stdout",
     "output_type": "stream",
     "text": [
      "    Probability of agreement = 0.841796875\n"
     ]
    }
   ],
   "source": [
    "result = qreative.bell_correlation('ZZ')\n",
    "print('    Probability of agreement =',result['P'])"
   ]
  },
  {
   "cell_type": "markdown",
   "metadata": {},
   "source": [
    "The outputs are most likely to agree, so our ship is intact!\n",
    "\n",
    "Now suppose our opponent launches an attack on our ship and hits the first qubit. We implement this by changing the measurement type to `X` for this qubit."
   ]
  },
  {
   "cell_type": "code",
   "execution_count": 3,
   "metadata": {},
   "outputs": [
    {
     "name": "stdout",
     "output_type": "stream",
     "text": [
      "    Probability of agreement = 0.8515625\n"
     ]
    }
   ],
   "source": [
    "result = qreative.bell_correlation('XZ')\n",
    "print('    Probability of agreement =',result['P'])"
   ]
  },
  {
   "cell_type": "markdown",
   "metadata": {},
   "source": [
    "Our ship survived this single attack. It would also have survived if the attack was on the other qubit instead."
   ]
  },
  {
   "cell_type": "code",
   "execution_count": 4,
   "metadata": {},
   "outputs": [
    {
     "name": "stdout",
     "output_type": "stream",
     "text": [
      "    Probability of agreement = 0.8564453125\n"
     ]
    }
   ],
   "source": [
    "result = qreative.bell_correlation('ZX')\n",
    "print('    Probability of agreement =',result['P'])"
   ]
  },
  {
   "cell_type": "markdown",
   "metadata": {},
   "source": [
    "But once both qubits are attacked, and so both have an `X` type measurement, it is a different story."
   ]
  },
  {
   "cell_type": "code",
   "execution_count": 5,
   "metadata": {},
   "outputs": [
    {
     "name": "stdout",
     "output_type": "stream",
     "text": [
      "    Probability of agreement = 0.1357421875\n"
     ]
    }
   ],
   "source": [
    "result = qreative.bell_correlation('XX')\n",
    "print('    Probability of agreement =',result['P'])"
   ]
  },
  {
   "cell_type": "markdown",
   "metadata": {},
   "source": [
    "The results now most likely disagree. The connection between the two parts of the ship has been disrupted. It has been destroyed!\n",
    "\n",
    "From a game design perspective, the specific numbers we get here might seem a bit arbitrary. But from a quantum perspective, they are extremely important. They prove that quantum variables are fundamentally different from classical ones. For more information, see [this article](https://medium.com/qiskit/why-variables-in-quantum-computers-can-be-a-little-spooky-cc5eb226f772)."
   ]
  },
  {
   "cell_type": "markdown",
   "metadata": {},
   "source": [
    "Rather than just having the probabilities, you can also get access to the actual samples. The number of samples is set with the kwarg `shots=1024`."
   ]
  },
  {
   "cell_type": "code",
   "execution_count": 6,
   "metadata": {},
   "outputs": [
    {
     "name": "stdout",
     "output_type": "stream",
     "text": [
      "    Probability of agreement = ['10', '01', '10', '10', '10', '10', '01', '10', '10', '10', '01', '01', '10', '10', '10', '01', '01', '01', '01', '01', '01', '01', '10', '10', '01', '10', '01', '10', '11', '01', '10', '01', '00', '10', '01', '01', '00', '10', '10', '01', '01', '10', '01', '10', '10', '01', '10', '01', '10', '01', '10', '10', '01', '10', '11', '10', '00', '01', '00', '10', '10', '10', '01', '01', '01', '01', '10', '01', '01', '10', '01', '10', '01', '10', '01', '10', '00', '01', '01', '00', '01', '01', '01', '10', '10', '11', '01', '01', '01', '01', '10', '01', '01', '00', '10', '01', '01', '01', '10', '10', '10', '10', '10', '01', '10', '10', '10', '10', '10', '01', '10', '10', '10', '01', '10', '10', '10', '01', '01', '10', '10', '10', '01', '01', '10', '01', '00', '01', '01', '11', '10', '01', '01', '10', '10', '11', '10', '01', '10', '10', '10', '01', '11', '10', '11', '01', '10', '01', '01', '11', '01', '01', '01', '10', '10', '11', '10', '01', '01', '01', '01', '01', '01', '10', '11', '10', '10', '01', '10', '10', '01', '01', '10', '01', '01', '10', '01', '11', '01', '01', '11', '10', '10', '10', '10', '01', '00', '10', '01', '01', '10', '10', '01', '01', '10', '01', '01', '10', '10', '01', '01', '10', '01', '01', '01', '01', '01', '10', '01', '01', '10', '11', '10', '10', '10', '01', '01', '01', '10', '01', '10', '00', '10', '11', '10', '10', '10', '01', '10', '00', '10', '10', '10', '10', '01', '10', '01', '10', '10', '01', '01', '01', '11', '10', '00', '10', '01', '01', '01', '01', '11', '10', '10', '10', '00', '10', '01', '11', '10', '11', '01', '00', '01', '10', '01', '01', '10', '01', '10', '01', '10', '10', '10', '10', '10', '01', '01', '01', '01', '00', '10', '11', '00', '01', '10', '10', '10', '01', '01', '01', '10', '01', '10', '10', '01', '01', '01', '01', '10', '01', '01', '01', '10', '10', '11', '10', '00', '00', '10', '10', '10', '01', '01', '10', '11', '01', '01', '10', '01', '01', '01', '01', '10', '10', '10', '01', '10', '01', '01', '01', '11', '10', '01', '00', '10', '10', '01', '10', '01', '01', '01', '10', '10', '11', '01', '10', '01', '10', '10', '10', '10', '10', '01', '01', '01', '01', '01', '01', '11', '11', '01', '01', '00', '01', '10', '10', '01', '01', '01', '01', '10', '01', '01', '10', '01', '10', '01', '10', '10', '01', '10', '10', '10', '01', '01', '01', '11', '01', '01', '01', '01', '10', '01', '01', '10', '00', '01', '10', '00', '01', '10', '00', '01', '00', '10', '01', '10', '00', '11', '01', '10', '00', '10', '10', '10', '10', '01', '11', '00', '10', '10', '10', '01', '00', '00', '10', '10', '01', '11', '01', '00', '10', '11', '01', '01', '10', '01', '10', '11', '01', '01', '01', '11', '01', '01', '10', '01', '10', '01', '01', '10', '10', '10', '10', '10', '11', '01', '01', '01', '01', '10', '01', '10', '01', '01', '10', '00', '10', '10', '10', '10', '10', '01', '01', '10', '01', '10', '01', '01', '10', '10', '10', '10', '11', '10', '10', '10', '11', '01', '01', '10', '01', '01', '11', '01', '10', '10', '01', '10', '10', '01', '10', '10', '01', '01', '01', '10', '11', '01', '10', '10', '01', '10', '01', '10', '10', '01', '01', '00', '01', '10', '10', '10', '10', '10', '01', '00', '01', '01', '10', '01', '01', '10', '10', '10', '01', '10', '10', '10', '01', '10', '01', '10', '10', '01', '10', '10', '01', '11', '01', '10', '10', '11', '01', '10', '10', '10', '01', '10', '01', '10', '01', '01', '01', '01', '10', '01', '01', '10', '11', '10', '10', '10', '10', '01', '01', '10', '10', '10', '10', '10', '01', '10', '01', '01', '10', '10', '01', '01', '00', '10', '10', '10', '01', '01', '01', '00', '01', '10', '10', '01', '10', '10', '10', '10', '10', '10', '10', '10', '10', '10', '01', '10', '01', '01', '10', '10', '01', '01', '10', '10', '01', '10', '00', '10', '00', '10', '01', '01', '10', '01', '01', '10', '10', '10', '10', '10', '10', '10', '01', '10', '01', '00', '10', '01', '01', '10', '01', '01', '00', '01', '10', '10', '10', '01', '10', '10', '01', '10', '10', '01', '11', '10', '10', '10', '01', '01', '11', '01', '01', '01', '10', '01', '11', '01', '01', '01', '01', '10', '01', '10', '10', '01', '01', '10', '01', '11', '10', '01', '00', '01', '01', '11', '10', '10', '10', '10', '10', '01', '01', '10', '10', '01', '10', '01', '10', '01', '10', '10', '01', '01', '01', '01', '01', '10', '00', '10', '10', '01', '11', '10', '01', '10', '10', '10', '10', '10', '00', '01', '10', '01', '11', '10', '10', '10', '01', '10', '10', '10', '11', '01', '01', '01', '01', '11', '10', '01', '01', '10', '01', '01', '00', '01', '01', '01', '10', '10', '10', '00', '11', '01', '01', '10', '01', '10', '10', '10', '01', '10', '01', '10', '10', '11', '01', '10', '11', '10', '10', '01', '10', '01', '01', '10', '10', '00', '10', '10', '10', '00', '10', '01', '01', '10', '01', '10', '01', '10', '01', '00', '01', '01', '10', '01', '10', '01', '10', '01', '10', '10', '10', '01', '10', '10', '01', '01', '01', '01', '01', '01', '01', '01', '10', '01', '10', '10', '01', '01', '10', '01', '01', '01', '01', '01', '01', '01', '01', '01', '01', '10', '01', '00', '01', '01', '01', '01', '10', '10', '10', '01', '01', '10', '10', '01', '01', '01', '01', '01', '01', '01', '10', '10', '10', '01', '01', '00', '01', '01', '11', '10', '00', '01', '11', '11', '10', '10', '10', '01', '10', '01', '01', '10', '01', '01', '00', '10', '01', '01', '10', '10', '10', '11', '01', '01', '10', '01', '10', '10', '01', '01', '01', '10', '01', '01', '01', '11', '01', '10', '01', '01', '10', '11', '10', '01', '10', '01', '10', '10', '01', '10', '01', '10', '10', '01', '00', '00', '00', '01', '10', '00', '01', '10', '10', '01', '10', '11', '01', '01', '01', '11', '10', '00', '10', '10', '01', '10', '10', '01', '01', '01', '01', '00', '10', '10', '01', '01', '10', '01', '01', '00', '01', '00', '01', '01', '01', '10', '10', '01', '10', '00', '01', '10', '10', '10', '01', '00', '11', '10', '10', '10', '01', '01', '10', '01', '10', '10', '01', '01', '00', '01', '01', '10', '10', '01', '10', '01', '10', '10', '01', '10', '01', '01', '10', '00', '10', '10', '01', '01', '01', '01', '01', '01', '10', '01', '01', '10', '01', '10', '10', '01', '10', '01', '10', '10', '01']\n"
     ]
    }
   ],
   "source": [
    "result = qreative.bell_correlation('XX')\n",
    "print('    Probability of agreement =',result['samples'])"
   ]
  },
  {
   "cell_type": "markdown",
   "metadata": {},
   "source": [
    "These could be used as part of a quantum-inspired method for procedural generation. For example, by combining `bell_correlation` and `two_bit`, you could reproduce the overworld of the game [Link to the quantum](https://github.com/msohaibalam/Link_to_Quantum_game/blob/master/README.md)."
   ]
  },
  {
   "cell_type": "markdown",
   "metadata": {},
   "source": [
    "The `bell_correlation` function also has the standard kwargs `device`, `noisy` and `shots` as explained in [the README](README.md).\n",
    "\n",
    "For example, here's some results where noise is simulated."
   ]
  },
  {
   "cell_type": "code",
   "execution_count": 10,
   "metadata": {},
   "outputs": [
    {
     "name": "stdout",
     "output_type": "stream",
     "text": [
      "    Probability of agreement for ZZ = 0.7255859375\n",
      "    Probability of agreement for XZ = 0.7265625\n",
      "    Probability of agreement for ZX = 0.732421875\n",
      "    Probability of agreement for XX = 0.2685546875\n"
     ]
    }
   ],
   "source": [
    "for basis in ['ZZ','XZ','ZX','XX']:\n",
    "    result = qreative.bell_correlation(basis,noisy=True)\n",
    "    print('    Probability of agreement for',basis,'=',result['P'])"
   ]
  },
  {
   "cell_type": "code",
   "execution_count": null,
   "metadata": {},
   "outputs": [],
   "source": []
  }
 ],
 "metadata": {
  "kernelspec": {
   "display_name": "Python 3",
   "language": "python",
   "name": "python3"
  },
  "language_info": {
   "codemirror_mode": {
    "name": "ipython",
    "version": 3
   },
   "file_extension": ".py",
   "mimetype": "text/x-python",
   "name": "python",
   "nbconvert_exporter": "python",
   "pygments_lexer": "ipython3",
   "version": "3.7.0"
  }
 },
 "nbformat": 4,
 "nbformat_minor": 2
}
