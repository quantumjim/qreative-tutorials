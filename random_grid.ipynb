{
 "cells": [
  {
   "cell_type": "markdown",
   "metadata": {},
   "source": [
    "# How to use `random_grid`"
   ]
  },
  {
   "cell_type": "code",
   "execution_count": 1,
   "metadata": {},
   "outputs": [],
   "source": [
    "import warnings\n",
    "warnings.filterwarnings(\"ignore\")\n",
    "\n",
    "import sys\n",
    "sys.path.append('../')\n",
    "import qreative"
   ]
  },
  {
   "cell_type": "markdown",
   "metadata": {},
   "source": [
    "The `random_grid` tool allows you to create random grids of `0`s and `1`s. When creating the object, you'll need to tell it how big the grid should be. For example, let's make a $4\\times4$ grid."
   ]
  },
  {
   "cell_type": "code",
   "execution_count": 2,
   "metadata": {},
   "outputs": [],
   "source": [
    "grid = qreative.random_grid(5,4)"
   ]
  },
  {
   "cell_type": "markdown",
   "metadata": {},
   "source": [
    "The object sets up a register of qubits, once for each position in the grid. Each is initially in state `0`.\n",
    "\n",
    "As a quick way of determining the points that neighbour any given point, you can use the `neighbours()` method."
   ]
  },
  {
   "cell_type": "code",
   "execution_count": 3,
   "metadata": {},
   "outputs": [
    {
     "data": {
      "text/plain": [
       "[(3, 2), (1, 2), (2, 3), (2, 1)]"
      ]
     },
     "execution_count": 3,
     "metadata": {},
     "output_type": "execute_result"
    }
   ],
   "source": [
    "grid.neighbours( (2,2) )"
   ]
  },
  {
   "cell_type": "markdown",
   "metadata": {},
   "source": [
    "To read out the state of the grid we call the `get_samples()` method, which has the standard kwargs `device`, `noisy` and `shots` as explained in [the README](README.md). This runs the circuit for `shots` samples, and gets a readout of the grid for each.\n",
    "\n",
    "Here's an example for just three samples."
   ]
  },
  {
   "cell_type": "code",
   "execution_count": 4,
   "metadata": {},
   "outputs": [],
   "source": [
    "grid_stats,grid_data = grid.get_samples(shots=3)"
   ]
  },
  {
   "cell_type": "markdown",
   "metadata": {},
   "source": [
    "The first output, here called `grid_stats` is a dictionary with grid states as keys and the number of samples for which this output occurred as values."
   ]
  },
  {
   "cell_type": "code",
   "execution_count": 5,
   "metadata": {},
   "outputs": [
    {
     "name": "stdout",
     "output_type": "stream",
     "text": [
      "3 shots returned the grid state\n",
      "\n",
      "00000\n",
      "00000\n",
      "00000\n",
      "00000 \n",
      "\n"
     ]
    }
   ],
   "source": [
    "for sample in grid_stats:\n",
    "    print(grid_stats[sample],'shots returned the grid state\\n')\n",
    "    print(sample,'\\n')"
   ]
  },
  {
   "cell_type": "markdown",
   "metadata": {},
   "source": [
    "The second output, here called `grid_data` is a list of each individual sample."
   ]
  },
  {
   "cell_type": "code",
   "execution_count": 6,
   "metadata": {},
   "outputs": [
    {
     "name": "stdout",
     "output_type": "stream",
     "text": [
      "00000\n",
      "00000\n",
      "00000\n",
      "00000 \n",
      "\n",
      "00000\n",
      "00000\n",
      "00000\n",
      "00000 \n",
      "\n",
      "00000\n",
      "00000\n",
      "00000\n",
      "00000 \n",
      "\n"
     ]
    }
   ],
   "source": [
    "for sample in grid_data:\n",
    "    print(sample,'\\n')"
   ]
  },
  {
   "cell_type": "markdown",
   "metadata": {},
   "source": [
    "Here we always got a grid full of `0`s, because nothing was done to change the grid from its initial state. So let's now make some changes.\n",
    "\n",
    "We can use the `NOT` method to apply a NOT gate to a qubit (flips `0` to `1` and vice-versa). Let's do this to the qubit at $(0,0)$ (this is the top-left, since we use [index notation](https://en.wikipedia.org/wiki/Index_notation) and number from 0."
   ]
  },
  {
   "cell_type": "code",
   "execution_count": 7,
   "metadata": {},
   "outputs": [],
   "source": [
    "grid.NOT((0,0))"
   ]
  },
  {
   "cell_type": "markdown",
   "metadata": {},
   "source": [
    "Unlike bits we can also do half a NOT: something that needs to be done twice to apply a full NOT. We can also do any other fraction. This is acheived using the `frac` kwarg, where you can specify which fraction of a NOT you'd like.\n",
    "\n",
    "For example, here's half a NOT on the qubit at $(4,3)$ (the bottom right)."
   ]
  },
  {
   "cell_type": "code",
   "execution_count": 8,
   "metadata": {},
   "outputs": [],
   "source": [
    "grid.NOT((4,3),frac=0.5)"
   ]
  },
  {
   "cell_type": "markdown",
   "metadata": {},
   "source": [
    "There's also the `CNOT` method. This applies a NOT on one qubit (the target) only when another (the control) is in state `1`. When using this, the coordinates of both control and target must be supplied.\n",
    "\n",
    "For example, let's use the `neighbours()` method to apply CNOTs with $(0,1)$ as the control, and its neighbours as targets."
   ]
  },
  {
   "cell_type": "code",
   "execution_count": 9,
   "metadata": {},
   "outputs": [],
   "source": [
    "control = (4,3)\n",
    "for target in grid.neighbours( control ):\n",
    "    grid.CNOT(control,target)"
   ]
  },
  {
   "cell_type": "markdown",
   "metadata": {},
   "source": [
    "Here are the 10 samples of the result."
   ]
  },
  {
   "cell_type": "code",
   "execution_count": 10,
   "metadata": {},
   "outputs": [
    {
     "name": "stdout",
     "output_type": "stream",
     "text": [
      "4 shots returned the grid state\n",
      "\n",
      "10000\n",
      "00000\n",
      "00000\n",
      "00000 \n",
      "\n",
      "6 shots returned the grid state\n",
      "\n",
      "10000\n",
      "00000\n",
      "00001\n",
      "00011 \n",
      "\n"
     ]
    }
   ],
   "source": [
    "grid_stats,grid_data = grid.get_samples(shots=10)\n",
    "def show_results (grid):\n",
    "    for sample in grid_stats:\n",
    "        print(grid_stats[sample],'shots returned the grid state\\n')\n",
    "        print(sample,'\\n')\n",
    "        \n",
    "show_results(grid)"
   ]
  },
  {
   "cell_type": "markdown",
   "metadata": {},
   "source": [
    "Here we see that position $(0,0)$ is always `1`. Position $(4,3)$ is 50/50 between `0` and `1` due to the half NOT. And when $(3,4)$ is a `1`, so too are its neighbours due to the CNOT."
   ]
  },
  {
   "cell_type": "markdown",
   "metadata": {},
   "source": [
    "Additionally, it is also possible to do fractions of the CNOT with its `frac` kwarg. In the following example, we put a `1` on the bottom-left corner and do half a CNOT between that and one of its neighbours."
   ]
  },
  {
   "cell_type": "code",
   "execution_count": 11,
   "metadata": {},
   "outputs": [
    {
     "name": "stdout",
     "output_type": "stream",
     "text": [
      "6 shots returned the grid state\n",
      "\n",
      "10000\n",
      "00000\n",
      "00000\n",
      "11000 \n",
      "\n",
      "3 shots returned the grid state\n",
      "\n",
      "10000\n",
      "00000\n",
      "00001\n",
      "10011 \n",
      "\n",
      "1 shots returned the grid state\n",
      "\n",
      "10000\n",
      "00000\n",
      "00001\n",
      "11011 \n",
      "\n"
     ]
    }
   ],
   "source": [
    "grid.NOT( (0,3) )\n",
    "grid.CNOT((0,3), (1,3), frac=0.5)\n",
    "\n",
    "grid_stats,grid_data = grid.get_samples(shots=10)\n",
    "show_results(grid)"
   ]
  },
  {
   "cell_type": "markdown",
   "metadata": {},
   "source": [
    "Here we see that position $(0,3)$ is always `1` due to the NOT. Position $(1,3)$ is 50/50 between `0` and `1` due to the half CNOT."
   ]
  },
  {
   "cell_type": "markdown",
   "metadata": {},
   "source": [
    "The NOT and CNOT gates above were performed on the qubits using so-called x axes rotations. It is also possible to do them with y axes rotations, by setting the `axis` kwarg to `'y'`. This will make absolutely no difference to the results above, but it can lead to interesting effects when x and y axis rotations are combined.\n",
    "\n",
    "For example, two x axis half NOTs combine to form a NOT. Let's do this on the $(0,0)$ qubit of a small grid."
   ]
  },
  {
   "cell_type": "code",
   "execution_count": 12,
   "metadata": {},
   "outputs": [
    {
     "name": "stdout",
     "output_type": "stream",
     "text": [
      "10 shots returned the grid state\n",
      "\n",
      "10\n",
      "00 \n",
      "\n"
     ]
    }
   ],
   "source": [
    "grid = qreative.random_grid(2,2)\n",
    "\n",
    "grid.NOT( (0,0), frac=0.5, axis='x' )\n",
    "grid.NOT( (0,0), frac=0.5, axis='x' )\n",
    "    \n",
    "grid_stats,grid_data = grid.get_samples(shots=10)\n",
    "show_results(grid)"
   ]
  },
  {
   "cell_type": "markdown",
   "metadata": {},
   "source": [
    "The same is true for two y axis half NOTs."
   ]
  },
  {
   "cell_type": "code",
   "execution_count": 13,
   "metadata": {},
   "outputs": [
    {
     "name": "stdout",
     "output_type": "stream",
     "text": [
      "10 shots returned the grid state\n",
      "\n",
      "10\n",
      "00 \n",
      "\n"
     ]
    }
   ],
   "source": [
    "grid = qreative.random_grid(2,2)\n",
    "\n",
    "grid.NOT( (0,0), frac=0.5, axis='y' )\n",
    "grid.NOT( (0,0), frac=0.5, axis='y' )\n",
    "    \n",
    "grid_stats,grid_data = grid.get_samples(shots=10)\n",
    "show_results(grid)"
   ]
  },
  {
   "cell_type": "markdown",
   "metadata": {},
   "source": [
    "But for one of each, the qubit at $(0,0)$ remains completely random."
   ]
  },
  {
   "cell_type": "code",
   "execution_count": 14,
   "metadata": {},
   "outputs": [
    {
     "name": "stdout",
     "output_type": "stream",
     "text": [
      "6 shots returned the grid state\n",
      "\n",
      "00\n",
      "00 \n",
      "\n",
      "4 shots returned the grid state\n",
      "\n",
      "10\n",
      "00 \n",
      "\n"
     ]
    }
   ],
   "source": [
    "grid = qreative.random_grid(2,2)\n",
    "\n",
    "grid.NOT( (0,0), frac=0.5, axis='x' )\n",
    "grid.NOT( (0,0), frac=0.5, axis='y' )\n",
    "    \n",
    "grid_stats,grid_data = grid.get_samples(shots=10)\n",
    "show_results(grid)"
   ]
  },
  {
   "cell_type": "markdown",
   "metadata": {},
   "source": [
    "By exploring these kinds of relationships, you can start generating random configurations that are hard for non-quantum computers to generate. For larger grids (but not too large), you might therefore need to upgrade to a better simulator. For example, `'ibmq_qasm_simulator'` is a cloud-based HPC resource that you can use with an IBMQ account."
   ]
  },
  {
   "cell_type": "code",
   "execution_count": 15,
   "metadata": {
    "scrolled": false
   },
   "outputs": [
    {
     "name": "stdout",
     "output_type": "stream",
     "text": [
      "2 shots returned the grid state\n",
      "\n",
      "11000\n",
      "10000\n",
      "00000\n",
      "00000\n",
      "00000 \n",
      "\n",
      "2 shots returned the grid state\n",
      "\n",
      "00000\n",
      "00000\n",
      "00000\n",
      "00000\n",
      "00000 \n",
      "\n",
      "1 shots returned the grid state\n",
      "\n",
      "11000\n",
      "10000\n",
      "00000\n",
      "00001\n",
      "00011 \n",
      "\n",
      "1 shots returned the grid state\n",
      "\n",
      "10000\n",
      "01000\n",
      "00110\n",
      "00100\n",
      "00000 \n",
      "\n",
      "1 shots returned the grid state\n",
      "\n",
      "11000\n",
      "10100\n",
      "01110\n",
      "00100\n",
      "00000 \n",
      "\n",
      "3 shots returned the grid state\n",
      "\n",
      "01000\n",
      "11100\n",
      "01000\n",
      "00000\n",
      "00000 \n",
      "\n"
     ]
    }
   ],
   "source": [
    "grid = qreative.random_grid(5,5)\n",
    "\n",
    "grid.NOT( (0,0), frac=0.5, )\n",
    "for j in range(5):\n",
    "    control = (j,j)\n",
    "    grid.NOT( control, frac=(1/(j+1)) )\n",
    "    for target in grid.neighbours( control ):\n",
    "        grid.CNOT(control,target)\n",
    "\n",
    "grid_stats,grid_data = grid.get_samples(shots=10,device='ibmq_qasm_simulator')    \n",
    "show_results(grid)"
   ]
  },
  {
   "cell_type": "markdown",
   "metadata": {},
   "source": [
    "If you want to use other Qiskit operations, the qubits and quantum circuit underlying this object they can be accessed via the `qr` and `qc` attributes of the object. The number of the qubit at point $(x,y)$ can be determined with the `address(x,y)` method.\n",
    "\n",
    "If you want to use a real device, and want to specificly target a qubit on chip as a qubit in your grid, use the `coord_map` kwarg when creating the object. This should have coordinates as keys and qubit numbers as values."
   ]
  }
 ],
 "metadata": {
  "kernelspec": {
   "display_name": "Python 3",
   "language": "python",
   "name": "python3"
  },
  "language_info": {
   "codemirror_mode": {
    "name": "ipython",
    "version": 3
   },
   "file_extension": ".py",
   "mimetype": "text/x-python",
   "name": "python",
   "nbconvert_exporter": "python",
   "pygments_lexer": "ipython3",
   "version": "3.7.0"
  }
 },
 "nbformat": 4,
 "nbformat_minor": 2
}
