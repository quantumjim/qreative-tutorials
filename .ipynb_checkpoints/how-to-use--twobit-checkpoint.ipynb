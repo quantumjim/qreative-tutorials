{
 "cells": [
  {
   "cell_type": "markdown",
   "metadata": {},
   "source": [
    "# How to use `ladder`"
   ]
  },
  {
   "cell_type": "code",
   "execution_count": 1,
   "metadata": {},
   "outputs": [
    {
     "name": "stderr",
     "output_type": "stream",
     "text": [
      "/usr/local/lib/python3.7/site-packages/pydub/utils.py:165: RuntimeWarning: Couldn't find ffmpeg or avconv - defaulting to ffmpeg, but may not work\n",
      "  warn(\"Couldn't find ffmpeg or avconv - defaulting to ffmpeg, but may not work\", RuntimeWarning)\n"
     ]
    }
   ],
   "source": [
    "import sys\n",
    "sys.path.append('../')\n",
    "import qreative"
   ]
  },
  {
   "cell_type": "markdown",
   "metadata": {},
   "source": [
    "A qubit is the quantum version of a bit. So you can use it to store boolean values. That's basically what a `twobit` object does."
   ]
  },
  {
   "cell_type": "code",
   "execution_count": 2,
   "metadata": {},
   "outputs": [],
   "source": [
    "b = qreative.twobit()"
   ]
  },
  {
   "cell_type": "markdown",
   "metadata": {},
   "source": [
    "We can prepare our bit with the value `True` or `False`, and then read it out again using the `Z_value()` method."
   ]
  },
  {
   "cell_type": "code",
   "execution_count": 3,
   "metadata": {},
   "outputs": [
    {
     "name": "stdout",
     "output_type": "stream",
     "text": [
      "    bit value = True\n"
     ]
    }
   ],
   "source": [
    "b.prepare({'Z':True})\n",
    "print(\"    bit value =\",b.Z_value() )"
   ]
  },
  {
   "cell_type": "code",
   "execution_count": 4,
   "metadata": {},
   "outputs": [
    {
     "name": "stdout",
     "output_type": "stream",
     "text": [
      "    bit value = False\n"
     ]
    }
   ],
   "source": [
    "b.prepare({'Z':False})\n",
    "print(\"    bit value =\",b.Z_value() )"
   ]
  },
  {
   "cell_type": "markdown",
   "metadata": {},
   "source": [
    "You probably notice the `Z` in all the lines above. This is because, though you can only store one bit in a single qubit, there are many ways to do it. So when preparing the bit, and when reading out the value, you need to specify what method is used. In the above, we used what is known as the `Z` basis.\n",
    "\n",
    "The `twobit` object also supports the use of the so-called `X` basis."
   ]
  },
  {
   "cell_type": "code",
   "execution_count": 5,
   "metadata": {},
   "outputs": [
    {
     "name": "stdout",
     "output_type": "stream",
     "text": [
      "    bit value = True\n"
     ]
    }
   ],
   "source": [
    "b.prepare({'X':True})\n",
    "print(\"    bit value =\",b.X_value() )"
   ]
  },
  {
   "cell_type": "code",
   "execution_count": 6,
   "metadata": {},
   "outputs": [
    {
     "name": "stdout",
     "output_type": "stream",
     "text": [
      "    bit value = False\n"
     ]
    }
   ],
   "source": [
    "b.prepare({'X':False})\n",
    "print(\"    bit value =\",b.X_value() )"
   ]
  },
  {
   "cell_type": "markdown",
   "metadata": {},
   "source": [
    "These two ways of storing a bit are completely incompatible. If you encode using the `Z` basis and read out using the `X` (or vice-versa) you'll get a random result."
   ]
  },
  {
   "cell_type": "code",
   "execution_count": 7,
   "metadata": {},
   "outputs": [
    {
     "name": "stdout",
     "output_type": "stream",
     "text": [
      "    Here are 10 trials with, each with True encoded in the Z basis. The values read out with X are:\n",
      "\n",
      "        Try 1: True\n",
      "        Try 2: True\n",
      "        Try 3: True\n",
      "        Try 4: False\n",
      "        Try 5: False\n",
      "        Try 6: True\n",
      "        Try 7: True\n",
      "        Try 8: False\n",
      "        Try 9: False\n",
      "        Try 10: False\n"
     ]
    }
   ],
   "source": [
    "print(\"    Here are 10 trials with, each with True encoded in the Z basis. The values read out with X are:\\n\")\n",
    "for trial in range(1,11):\n",
    "    b.prepare({'Z':True})\n",
    "    message = \"        Try \" + str(trial)+\": \"\n",
    "    message += str( b.X_value() ) \n",
    "    print( message )"
   ]
  },
  {
   "cell_type": "markdown",
   "metadata": {},
   "source": [
    "Once you read a value out for a given basis, the qubit forgets anything that was encoded within it before the readout. So though encoding with `Z` and then reading out with `X` gives a random value, that value will remain if you read out using `X` again.\n",
    "\n",
    "Below we do the same as before, but this time the readout is done 5 times during each individual trail, instead of just once."
   ]
  },
  {
   "cell_type": "code",
   "execution_count": 8,
   "metadata": {},
   "outputs": [
    {
     "name": "stdout",
     "output_type": "stream",
     "text": [
      "        Try 1: False, False, False, False, False, \n",
      "        Try 2: False, False, False, False, False, \n",
      "        Try 3: True, True, True, True, True, \n",
      "        Try 4: False, False, False, False, False, \n",
      "        Try 5: False, False, False, False, False, \n",
      "        Try 6: True, True, True, True, True, \n",
      "        Try 7: False, False, False, False, False, \n",
      "        Try 8: True, True, True, True, True, \n",
      "        Try 9: True, True, True, True, True, \n",
      "        Try 10: False, False, False, False, False, \n"
     ]
    }
   ],
   "source": [
    "for trial in range(1,11):\n",
    "    message = \"        Try \" + str(trial)+\": \"\n",
    "    b.prepare({'Z':True})\n",
    "    for repeat in range(5):\n",
    "        message += str( b.X_value() ) + \", \"\n",
    "    print(message)"
   ]
  },
  {
   "cell_type": "markdown",
   "metadata": {},
   "source": [
    "This behaviour is exactly why `Z_value()` and `X_value()` need to be methods of the objects rather than just attributes. If they were attributes, it would imply that they can both have well defined values at the same time, which we can just look at whenever we want without changing the object. But this is not the case. Instead, the action of extracting the values requires the object to run a process, known as measurement, which can change what is going on inside the object. That's why it needs a method."
   ]
  },
  {
   "cell_type": "markdown",
   "metadata": {},
   "source": [
    "In the game [Battleships with complementary measurements](https://medium.com/@decodoku/how-to-program-a-quantum-computer-part-2-f0d3eee872fe), this behaviour is used to implement the attacks that can be made on ships. There are two kinds of attack, with correspond calling `value()` with either `Z` or `X`.\n",
    "\n",
    "A ship is destroyed when the result is `True`. If `False`, the ship survives the attack. It also becomes immune to it, since another identical call to `value()` will give the same result. Sof fo any hope of succes, the other type of attack must be used. If the ship again survives, it will have forgotten its immunity to the previous attack type. So switching between attacks will ensure victory in the end.\n",
    "\n",
    "*Note: The following cell is interactive so you'll need to run it yourself*"
   ]
  },
  {
   "cell_type": "code",
   "execution_count": null,
   "metadata": {},
   "outputs": [],
   "source": [
    "ship = qreative.twobit()\n",
    "\n",
    "destroyed = False\n",
    "while not destroyed:\n",
    "    basis = input('\\n    > Choose a torpedo type (Z or X)...\\n    ')\n",
    "    destroyed = ship.value(basis)\n",
    "    if destroyed:\n",
    "        print('\\n    *Ship destroyed!*')\n",
    "    else:\n",
    "        print('\\n    *Attack failed!*')\n",
    "print('\\n    **Mission complete!**')"
   ]
  },
  {
   "cell_type": "markdown",
   "metadata": {},
   "source": [
    "Note that the `prepare()` method was never called above. This resulting in the first use of `value()` giving a random outcome, regardless of whether `X` or `Z` as used. Also, rather than using the `X_value()` or `Z_value()` methods, we used `value()` with a kwarg to specify `X` or `Z`. This is just a shortcut provided to write nicer programs in cases like these.\n",
    "\n",
    "The `X_value()`, `Z_value()` and `value()` methods all have a `device='qasm_simulator'` kwarg, which can be changed to run on a real device such as `'ibmq_5_tenerife'`. The noise in real devices could lead to the wrong output being returned with a small probability. Some mitigation is done to make this less likely. This can be turned off by setting the `mitigate=True` qwarg to `False`. The remaning kwarg is `shots=1024`, which essentially does nothing for simulated noiseless runs. For real devices (or simulated noise) large values of `shots` (such as 1024) allow the mitigation to work better than for smaller values. At the extreme of `shots=1`, the mitigation becomes powerless.\n",
    "\n",
    "Finally, it should be noted that there is a third basis alongside `X` and `Z`. As you could probably guess, it's called `Y`. It is also fully functional, and is even used in the case where `prepare()` is not called to provide an initial state that is random for both `X` and `Z`. So this object should really be called `three_bit`. But it's not, because everyone always ignores poor `Y`."
   ]
  },
  {
   "cell_type": "code",
   "execution_count": null,
   "metadata": {},
   "outputs": [],
   "source": []
  }
 ],
 "metadata": {
  "kernelspec": {
   "display_name": "Python 3",
   "language": "python",
   "name": "python3"
  },
  "language_info": {
   "codemirror_mode": {
    "name": "ipython",
    "version": 3
   },
   "file_extension": ".py",
   "mimetype": "text/x-python",
   "name": "python",
   "nbconvert_exporter": "python",
   "pygments_lexer": "ipython3",
   "version": "3.7.0"
  }
 },
 "nbformat": 4,
 "nbformat_minor": 2
}
