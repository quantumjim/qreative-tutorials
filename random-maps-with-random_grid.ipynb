{
 "cells": [
  {
   "cell_type": "markdown",
   "metadata": {},
   "source": [
    "# Random maps with `random_grid`"
   ]
  },
  {
   "cell_type": "code",
   "execution_count": 2,
   "metadata": {},
   "outputs": [],
   "source": [
    "from qreative import random_grid\n",
    "import numpy as np\n",
    "import matplotlib.pyplot as plt\n",
    "import random"
   ]
  },
  {
   "cell_type": "markdown",
   "metadata": {},
   "source": [
    "The `random_grid` tool creates random grids using quantum computing. However, you may find yourself limited to fairly small grids. This is true both for when you simulate the jobs with normal computers (because large grids take ages to simulate) and when you use a real device (because of the limited size of current prototypes. For this reason, here we are going to generate large grids by sticking many small grids together.\n",
    "\n",
    "Our first job is to deal with the output of `random_grid`. Each grid is represented as a string, with `'\\n'` used for linebreaks."
   ]
  },
  {
   "cell_type": "code",
   "execution_count": 29,
   "metadata": {},
   "outputs": [
    {
     "name": "stdout",
     "output_type": "stream",
     "text": [
      "['1000\\n0010\\n0000\\n0000']\n"
     ]
    }
   ],
   "source": [
    "grid = random_grid(4,4)\n",
    "grid_stats,grid_data = grid.get_samples(shots=1,noisy=0.2)\n",
    "print(grid_data)"
   ]
  },
  {
   "cell_type": "markdown",
   "metadata": {},
   "source": [
    "First we'll define a function to convert this to an array. We'll use use the integers 0 and 1 in this array, instead of their corresoonding strings."
   ]
  },
  {
   "cell_type": "code",
   "execution_count": 30,
   "metadata": {},
   "outputs": [],
   "source": [
    "def string2array (string):\n",
    "    grid_list = []\n",
    "    for line in string.split('\\n'):\n",
    "        grid_list.append( [int(char) for char in line] )\n",
    "    return np.array(grid_list)"
   ]
  },
  {
   "cell_type": "code",
   "execution_count": 31,
   "metadata": {},
   "outputs": [
    {
     "name": "stdout",
     "output_type": "stream",
     "text": [
      "[[1 0 0 0]\n",
      " [0 0 1 0]\n",
      " [0 0 0 0]\n",
      " [0 0 0 0]]\n"
     ]
    }
   ],
   "source": [
    "print( string2array( '1000\\n0010\\n0000\\n0000' ) )"
   ]
  },
  {
   "cell_type": "markdown",
   "metadata": {},
   "source": [
    "The function below creates a large map by breaking it down into a number of cells. Each cell is a grid generated quantumly using `random_grid`, so we shouldn't make them too big. The size of the cell is set by the `cell=(a,b)` kwarg, which specifies an `a`$\\times$`b` grid. These cells are then tiled in an `A`$\\times$`B` grid, as specified by the `size=(A,B)` kwarg.\n",
    "\n",
    "This function is set up to generate a map with land and sea corresponding to 0 and 1 respectively. Each island is grown from a seed 1 that is randomly placed within its cell. The number of seeds in each cell is specified by the `seeds` kwarg. If this is less than 1, it is treated as a probability to put a seed in each cell.\n",
    "\n",
    "Once the seeds are placed, sweeps of `CNOT` gates are used to grow the islands. The number of sweeps is given by the `sweeps` kwarg, and there is also a `frac` kwarg to set the fraction of a `NOT` that each applied. The axis of the `CNOT`s are randomly chosen by those provided in the `basis` kwarg. This randomly chooses from `'x'` and `'y'` by default, but you can use `axes=['x']` to make it certain to choose `'x'`, etc.\n",
    "\n",
    "Noise makes things a bit more random."
   ]
  },
  {
   "cell_type": "code",
   "execution_count": 58,
   "metadata": {},
   "outputs": [],
   "source": [
    "def random_map (size=(4,4),cell=(4,4),seeds=1,sweeps=1,axes=['x','y'],frac=1,shots=1,noisy=False):\n",
    "    cell_maps = [ [] for _ in range(shots) ]\n",
    "    \n",
    "    # loop over all cells, and \n",
    "    for Y in range(size[1]):\n",
    "        cell_lines = [ [] for _ in range(shots) ]\n",
    "        for X in range(size[0]):\n",
    "            grid = random_grid(cell[0],cell[1])\n",
    "            \n",
    "            # place the seeds\n",
    "            if seeds>=1:\n",
    "                for seed in range(int(seeds)):\n",
    "                    coords = (random.randrange(cell[0]),random.randrange(cell[1]))\n",
    "                    grid.NOT( coords )\n",
    "            elif random.random()<seeds:\n",
    "                coords = (random.randrange(cell[0]),random.randrange(cell[1]))\n",
    "                grid.NOT( coords )\n",
    "            \n",
    "            # sweep over qubits in cell and apply cnots to neighbours\n",
    "            for sweep in range(sweeps):\n",
    "                for y in range(cell[1]):\n",
    "                    # in each sweep, half the qubits act as controls to the cnots, and half as targets\n",
    "                    # they then alternate roles from one sweep to the next\n",
    "                    # the dividing of qubits into two groups is on in 'checkerboard pattern\n",
    "                    for x in range((y+sweep)%2,cell[0],2): # sweeps\n",
    "                        for (xx,yy) in [(x+1,y),(x-1,y),(x,y+1),(x,y-1)]:\n",
    "                            if (xx in range(cell[0])  and (yy in range(cell[1]))):\n",
    "                                axis = random.choice(axes)\n",
    "                                grid.CNOT((x,y),(xx,yy),frac=frac,axis=axis)\n",
    "            \n",
    "            # collect the results\n",
    "            _,grid_data = grid.get_samples(shots=shots,noisy=noisy)\n",
    "            for sample in range(shots):\n",
    "                cell_lines[sample].append( string2array(grid_data[sample]) )\n",
    "        for sample in range(shots):\n",
    "            cell_maps[sample].append( cell_lines[sample] )\n",
    "    \n",
    "    # create the final grid\n",
    "    maps = []\n",
    "    for cell_map in cell_maps:\n",
    "        maps.append( np.block(cell_map) )\n",
    "    return maps"
   ]
  },
  {
   "cell_type": "markdown",
   "metadata": {},
   "source": [
    "In this function, each cell is entirely independent. There is no way for an island to grow beyond the borders of its home cell (though it might end up touching one from a neighbouring cell). There are many ways that this could be fixed, and you could probably think of a better one than me!\n",
    "\n",
    "Until then, here are some quantum islands."
   ]
  },
  {
   "cell_type": "code",
   "execution_count": 66,
   "metadata": {
    "scrolled": false
   },
   "outputs": [
    {
     "data": {
      "image/png": "[encoded data removed]",
      "text/plain": [
       "<Figure size 432x288 with 1 Axes>"
      ]
     },
     "metadata": {
      "needs_background": "light"
     },
     "output_type": "display_data"
    },
    {
     "data": {
      "image/png": "[encoded data removed]",
      "text/plain": [
       "<Figure size 432x288 with 1 Axes>"
      ]
     },
     "metadata": {
      "needs_background": "light"
     },
     "output_type": "display_data"
    },
    {
     "data": {
      "image/png": "[encoded data removed]",
      "text/plain": [
       "<Figure size 432x288 with 1 Axes>"
      ]
     },
     "metadata": {
      "needs_background": "light"
     },
     "output_type": "display_data"
    },
    {
     "data": {
      "image/png": "[encoded data removed]",
      "text/plain": [
       "<Figure size 432x288 with 1 Axes>"
      ]
     },
     "metadata": {
      "needs_background": "light"
     },
     "output_type": "display_data"
    },
    {
     "data": {
      "image/png": "[encoded data removed]",
      "text/plain": [
       "<Figure size 432x288 with 1 Axes>"
      ]
     },
     "metadata": {
      "needs_background": "light"
     },
     "output_type": "display_data"
    }
   ],
   "source": [
    "maps = random_map(size=(7,7),cell=(4,4),seeds=0,sweeps=1,frac=0.5,shots=5,noisy=0.015)\n",
    "\n",
    "for map_sample in maps:\n",
    "    plt.imshow(map_sample,cmap='gray')\n",
    "    plt.axis('off')\n",
    "    plt.show()"
   ]
  },
  {
   "cell_type": "code",
   "execution_count": null,
   "metadata": {},
   "outputs": [],
   "source": []
  }
 ],
 "metadata": {
  "kernelspec": {
   "display_name": "Python 3",
   "language": "python",
   "name": "python3"
  },
  "language_info": {
   "codemirror_mode": {
    "name": "ipython",
    "version": 3
   },
   "file_extension": ".py",
   "mimetype": "text/x-python",
   "name": "python",
   "nbconvert_exporter": "python",
   "pygments_lexer": "ipython3",
   "version": "3.7.0"
  }
 },
 "nbformat": 4,
 "nbformat_minor": 2
}
